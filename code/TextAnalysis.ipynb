{
  "nbformat": 4,
  "nbformat_minor": 0,
  "metadata": {
    "kernelspec": {
      "display_name": "Python 3",
      "language": "python",
      "name": "python3"
    },
    "language_info": {
      "codemirror_mode": {
        "name": "ipython",
        "version": 3
      },
      "file_extension": ".py",
      "mimetype": "text/x-python",
      "name": "python",
      "nbconvert_exporter": "python",
      "pygments_lexer": "ipython3",
      "version": "3.6.9"
    },
    "colab": {
      "name": "TextAnalysis.ipynb",
      "provenance": []
    }
  },
  "cells": [
    {
      "cell_type": "code",
      "metadata": {
        "id": "Oy8Uq_IY40Or",
        "colab_type": "code",
        "colab": {},
        "outputId": "159a7ddf-4e97-4b2d-9e79-27758c9c88c9"
      },
      "source": [
        "#Importing libraries required for analysis\n",
        "import os\n",
        "import cv2\n",
        "import matplotlib.pyplot as plt\n",
        "import re\n",
        "from PIL import Image\n",
        "import numpy as np\n",
        "import pandas as pd\n",
        "!pip install wordcloud\n",
        "!pip install emot\n",
        "!pip install emoji\n",
        "\n",
        "!pip install -U textblob\n",
        "from textblob import TextBlob"
      ],
      "execution_count": null,
      "outputs": [
        {
          "output_type": "stream",
          "text": [
            "Requirement already satisfied: wordcloud in c:\\users\\vipan\\anaconda3\\lib\\site-packages (1.6.0)\n",
            "Requirement already satisfied: pillow in c:\\users\\vipan\\anaconda3\\lib\\site-packages (from wordcloud) (6.2.0)\n",
            "Requirement already satisfied: matplotlib in c:\\users\\vipan\\anaconda3\\lib\\site-packages (from wordcloud) (3.1.1)\n",
            "Requirement already satisfied: numpy>=1.6.1 in c:\\users\\vipan\\anaconda3\\lib\\site-packages (from wordcloud) (1.16.5)\n",
            "Requirement already satisfied: cycler>=0.10 in c:\\users\\vipan\\anaconda3\\lib\\site-packages (from matplotlib->wordcloud) (0.10.0)\n",
            "Requirement already satisfied: kiwisolver>=1.0.1 in c:\\users\\vipan\\anaconda3\\lib\\site-packages (from matplotlib->wordcloud) (1.1.0)\n",
            "Requirement already satisfied: pyparsing!=2.0.4,!=2.1.2,!=2.1.6,>=2.0.1 in c:\\users\\vipan\\anaconda3\\lib\\site-packages (from matplotlib->wordcloud) (2.4.2)\n",
            "Requirement already satisfied: python-dateutil>=2.1 in c:\\users\\vipan\\anaconda3\\lib\\site-packages (from matplotlib->wordcloud) (2.8.0)\n",
            "Requirement already satisfied: six in c:\\users\\vipan\\anaconda3\\lib\\site-packages (from cycler>=0.10->matplotlib->wordcloud) (1.12.0)\n",
            "Requirement already satisfied: setuptools in c:\\users\\vipan\\anaconda3\\lib\\site-packages (from kiwisolver>=1.0.1->matplotlib->wordcloud) (41.4.0)\n",
            "Requirement already satisfied: emot in c:\\users\\vipan\\anaconda3\\lib\\site-packages (2.1)\n",
            "Requirement already satisfied: emoji in c:\\users\\vipan\\anaconda3\\lib\\site-packages (0.5.4)\n",
            "Requirement already up-to-date: textblob in c:\\users\\vipan\\anaconda3\\lib\\site-packages (0.15.3)\n",
            "Requirement already satisfied, skipping upgrade: nltk>=3.1 in c:\\users\\vipan\\anaconda3\\lib\\site-packages (from textblob) (3.4.5)\n",
            "Requirement already satisfied, skipping upgrade: six in c:\\users\\vipan\\anaconda3\\lib\\site-packages (from nltk>=3.1->textblob) (1.12.0)\n"
          ],
          "name": "stdout"
        }
      ]
    },
    {
      "cell_type": "code",
      "metadata": {
        "id": "t6pucUl940Ox",
        "colab_type": "code",
        "colab": {},
        "outputId": "1fca769f-5dd9-4467-d125-ff6e672b7eec"
      },
      "source": [
        "%%time\n",
        "!pip install pyLDAvis\n",
        "import pyLDAvis\n",
        "from pyLDAvis import sklearn as sklearn_lda\n",
        "import pickle \n",
        "\n",
        "!pip install corextopic\n",
        "from corextopic import corextopic as ct"
      ],
      "execution_count": null,
      "outputs": [
        {
          "output_type": "stream",
          "text": [
            "Requirement already satisfied: pyLDAvis in c:\\users\\vipan\\anaconda3\\lib\\site-packages (2.1.2)\n",
            "Requirement already satisfied: numexpr in c:\\users\\vipan\\anaconda3\\lib\\site-packages (from pyLDAvis) (2.7.0)\n",
            "Requirement already satisfied: future in c:\\users\\vipan\\anaconda3\\lib\\site-packages (from pyLDAvis) (0.18.2)\n",
            "Requirement already satisfied: pandas>=0.17.0 in c:\\users\\vipan\\anaconda3\\lib\\site-packages (from pyLDAvis) (0.25.1)\n",
            "Requirement already satisfied: scipy>=0.18.0 in c:\\users\\vipan\\anaconda3\\lib\\site-packages (from pyLDAvis) (1.3.1)\n",
            "Requirement already satisfied: joblib>=0.8.4 in c:\\users\\vipan\\anaconda3\\lib\\site-packages (from pyLDAvis) (0.13.2)\n",
            "Requirement already satisfied: funcy in c:\\users\\vipan\\anaconda3\\lib\\site-packages (from pyLDAvis) (1.14)\n",
            "Requirement already satisfied: numpy>=1.9.2 in c:\\users\\vipan\\anaconda3\\lib\\site-packages (from pyLDAvis) (1.16.5)\n",
            "Requirement already satisfied: jinja2>=2.7.2 in c:\\users\\vipan\\anaconda3\\lib\\site-packages (from pyLDAvis) (2.10.3)\n",
            "Requirement already satisfied: wheel>=0.23.0 in c:\\users\\vipan\\anaconda3\\lib\\site-packages (from pyLDAvis) (0.33.6)\n",
            "Requirement already satisfied: pytest in c:\\users\\vipan\\anaconda3\\lib\\site-packages (from pyLDAvis) (5.2.1)\n",
            "Requirement already satisfied: pytz>=2017.2 in c:\\users\\vipan\\anaconda3\\lib\\site-packages (from pandas>=0.17.0->pyLDAvis) (2019.3)\n",
            "Requirement already satisfied: python-dateutil>=2.6.1 in c:\\users\\vipan\\anaconda3\\lib\\site-packages (from pandas>=0.17.0->pyLDAvis) (2.8.0)\n",
            "Requirement already satisfied: MarkupSafe>=0.23 in c:\\users\\vipan\\anaconda3\\lib\\site-packages (from jinja2>=2.7.2->pyLDAvis) (1.1.1)\n",
            "Requirement already satisfied: py>=1.5.0 in c:\\users\\vipan\\anaconda3\\lib\\site-packages (from pytest->pyLDAvis) (1.8.0)\n",
            "Requirement already satisfied: packaging in c:\\users\\vipan\\anaconda3\\lib\\site-packages (from pytest->pyLDAvis) (19.2)\n",
            "Requirement already satisfied: attrs>=17.4.0 in c:\\users\\vipan\\anaconda3\\lib\\site-packages (from pytest->pyLDAvis) (19.2.0)\n",
            "Requirement already satisfied: more-itertools>=4.0.0 in c:\\users\\vipan\\anaconda3\\lib\\site-packages (from pytest->pyLDAvis) (7.2.0)\n",
            "Requirement already satisfied: atomicwrites>=1.0 in c:\\users\\vipan\\anaconda3\\lib\\site-packages (from pytest->pyLDAvis) (1.3.0)\n",
            "Requirement already satisfied: pluggy<1.0,>=0.12 in c:\\users\\vipan\\anaconda3\\lib\\site-packages (from pytest->pyLDAvis) (0.13.0)\n",
            "Requirement already satisfied: wcwidth in c:\\users\\vipan\\anaconda3\\lib\\site-packages (from pytest->pyLDAvis) (0.1.7)\n",
            "Requirement already satisfied: importlib-metadata>=0.12 in c:\\users\\vipan\\anaconda3\\lib\\site-packages (from pytest->pyLDAvis) (0.23)\n",
            "Requirement already satisfied: colorama in c:\\users\\vipan\\anaconda3\\lib\\site-packages (from pytest->pyLDAvis) (0.4.1)\n",
            "Requirement already satisfied: six>=1.5 in c:\\users\\vipan\\anaconda3\\lib\\site-packages (from python-dateutil>=2.6.1->pandas>=0.17.0->pyLDAvis) (1.12.0)\n",
            "Requirement already satisfied: pyparsing>=2.0.2 in c:\\users\\vipan\\anaconda3\\lib\\site-packages (from packaging->pytest->pyLDAvis) (2.4.2)\n",
            "Requirement already satisfied: zipp>=0.5 in c:\\users\\vipan\\anaconda3\\lib\\site-packages (from importlib-metadata>=0.12->pytest->pyLDAvis) (0.6.0)\n",
            "Requirement already satisfied: corextopic in c:\\users\\vipan\\anaconda3\\lib\\site-packages (1.0.5)\n",
            "Wall time: 6.7 s\n"
          ],
          "name": "stdout"
        },
        {
          "output_type": "stream",
          "text": [
            "C:\\Users\\vipan\\Anaconda3\\lib\\site-packages\\sklearn\\externals\\joblib\\__init__.py:15: DeprecationWarning: sklearn.externals.joblib is deprecated in 0.21 and will be removed in 0.23. Please import this functionality directly from joblib, which can be installed with: pip install joblib. If this warning is raised when loading pickled models, you may need to re-serialize those models with scikit-learn 0.21+.\n",
            "  warnings.warn(msg, category=DeprecationWarning)\n"
          ],
          "name": "stderr"
        }
      ]
    },
    {
      "cell_type": "code",
      "metadata": {
        "id": "13vonk3640O1",
        "colab_type": "code",
        "colab": {},
        "outputId": "a81349ca-0099-443f-f9a4-2ca71ee7eeaa"
      },
      "source": [
        "#List of depressed individuals\n",
        "path = \"D:/study stuff/UIC/Sem - 2/IDS 594 Healthcare/Project/Final Submission/Depressed_people\"\n",
        "all_files = os.listdir(path)\n",
        "print(all_files)"
      ],
      "execution_count": null
    },
    {
      "cell_type": "code",
      "metadata": {
        "id": "Jn4EyrEI40O4",
        "colab_type": "code",
        "colab": {},
        "outputId": "795574d4-a1c5-4027-a3b0-6fa2d84e66d7"
      },
      "source": [
        "#Reading text files of depressed individuals\n",
        "path = \"D:/study stuff/UIC/Sem - 2/IDS 594 Healthcare/Project/Final Submission/Depressed_people/\"\n",
        "all_files = os.listdir(path)\n",
        "\n",
        "textlist = []\n",
        "for user in all_files:\n",
        "    userpath = path+ str(user)\n",
        "    files = os.listdir(userpath)\n",
        "    txt_files = list(filter(lambda x: x[-4:] == '.txt', files))\n",
        "\n",
        "#Going through all the user posts and appending them to textlist\n",
        "    for i in range(len(txt_files)):\n",
        "        post = []\n",
        "        text = open(path+str(user)+\"/\"+ txt_files[i],\"r\" ,encoding=\"utf8\")\n",
        "        for line in text:\n",
        "            post.append(line.strip().lower())\n",
        "        concat = \"\".join(post)\n",
        "        textlist.append((user,concat,1))\n",
        "        text.close()\n",
        "\n",
        "textlist[0:2]"
      ],
      "execution_count": null,
      "outputs": [
        {
          "output_type": "execute_result",
          "data": {
            "text/plain": [
              "[('4teensandme',\n",
              "  \"it's time to stop it's time to stop focusing on other people's opinions of you. the only person that matters the only opinion that matters only way to succeed is to believe in yourself.#yourvalue #knowyourworth #opinions #worthy #positivity #speakup #dontjudge #bethechange #differencemaker #loveyourself #love #realtalk #speaker #instagood #whatido #passionate #motivation #inspiration\",\n",
              "  1),\n",
              " ('4teensandme',\n",
              "  '10 things about me:1. i am passionate about change2. empowering woman is my destiny3. i was a single teenage mom4. i have been married twice5. i am obsessed with my dog and unicorns!6. i have overcome unhealthy relationships7. i change my haircolor based off emotions8. i love to embarrass my kids9. pumpkin spice is life!10. the water (beach) is my sanctuary.bonus:11. god has blessed my life#aboutme #10things #gettoknowme #tellmeaboutyou #insight #buildrelationships #businss #grindtowin #winning #godsplan #calling #blessed #positivetalk #blessed #proud #love #realtalk #loveyourself #speakup #raiseawarness #beavoice #change',\n",
              "  1)]"
            ]
          },
          "metadata": {
            "tags": []
          },
          "execution_count": 6
        }
      ]
    },
    {
      "cell_type": "code",
      "metadata": {
        "id": "qw5BdmA340O7",
        "colab_type": "code",
        "colab": {},
        "outputId": "023bc7b0-f824-4336-c57b-ede46063afb3"
      },
      "source": [
        "#Reading text files of non-depressed individuals\n",
        "path = \"D:/study stuff/UIC/Sem - 2/IDS 594 Healthcare/Project/Final Submission/Normal_people/\"\n",
        "all_files = os.listdir(path)\n",
        "\n",
        "non_textlist = []\n",
        "for user in all_files:\n",
        "    userpath = path+ str(user)\n",
        "    files = os.listdir(userpath)\n",
        "    txt_files = list(filter(lambda x: x[-4:] == '.txt', files))\n",
        "\n",
        "#Going through all the user posts and appending them to textlist    \n",
        "    for i in range(len(txt_files)):\n",
        "        post = []\n",
        "        text = open(path+str(user)+\"/\"+ txt_files[i],\"r\" ,encoding=\"utf8\")\n",
        "        for line in text:\n",
        "            post.append(line.strip().lower())\n",
        "        concat = \"\".join(post)\n",
        "        non_textlist.append((user,concat,0))\n",
        "        text.close()\n",
        "        \n",
        "non_textlist[0:5]"
      ],
      "execution_count": null,
      "outputs": [
        {
          "output_type": "execute_result",
          "data": {
            "text/plain": [
              "[('annapirga', \"excuses don't burn calories 😉\", 0),\n",
              " ('annapirga', 'happy birthday, memo! 22😏 #citykids', 0),\n",
              " ('annapirga',\n",
              "  'this picture is my most prize possession because after 8 fricken years i finally met the love of my life 😭❤️',\n",
              "  0),\n",
              " ('annapirga', 'post concert depression is a real thing #takemeback 😩', 0),\n",
              " ('annapirga',\n",
              "  \"couldn't have asked for a better 4 years than with the best squad of all time ❤️🇺🇸\",\n",
              "  0)]"
            ]
          },
          "metadata": {
            "tags": []
          },
          "execution_count": 7
        }
      ]
    },
    {
      "cell_type": "code",
      "metadata": {
        "scrolled": true,
        "id": "QbnNsyGH40O-",
        "colab_type": "code",
        "colab": {},
        "outputId": "e058b66e-e5d8-44bc-e517-9f1e4b7ef01c"
      },
      "source": [
        "pd.set_option('display.max_colwidth', 50)\n",
        "totallist = textlist + non_textlist\n",
        "text = pd.DataFrame(totallist, columns=[\"UserId\", \"Post\",\"Depressed\"]) #pd.dataframe(np.array(textlist))\n",
        "text.head()"
      ],
      "execution_count": null,
      "outputs": [
        {
          "output_type": "execute_result",
          "data": {
            "text/html": [
              "<div>\n",
              "<style scoped>\n",
              "    .dataframe tbody tr th:only-of-type {\n",
              "        vertical-align: middle;\n",
              "    }\n",
              "\n",
              "    .dataframe tbody tr th {\n",
              "        vertical-align: top;\n",
              "    }\n",
              "\n",
              "    .dataframe thead th {\n",
              "        text-align: right;\n",
              "    }\n",
              "</style>\n",
              "<table border=\"1\" class=\"dataframe\">\n",
              "  <thead>\n",
              "    <tr style=\"text-align: right;\">\n",
              "      <th></th>\n",
              "      <th>UserId</th>\n",
              "      <th>Post</th>\n",
              "      <th>Depressed</th>\n",
              "    </tr>\n",
              "  </thead>\n",
              "  <tbody>\n",
              "    <tr>\n",
              "      <td>0</td>\n",
              "      <td>4teensandme</td>\n",
              "      <td>it's time to stop it's time to stop focusing o...</td>\n",
              "      <td>1</td>\n",
              "    </tr>\n",
              "    <tr>\n",
              "      <td>1</td>\n",
              "      <td>4teensandme</td>\n",
              "      <td>10 things about me:1. i am passionate about ch...</td>\n",
              "      <td>1</td>\n",
              "    </tr>\n",
              "    <tr>\n",
              "      <td>2</td>\n",
              "      <td>4teensandme</td>\n",
              "      <td>you are your number 1 fan!!!stop depending on ...</td>\n",
              "      <td>1</td>\n",
              "    </tr>\n",
              "    <tr>\n",
              "      <td>3</td>\n",
              "      <td>4teensandme</td>\n",
              "      <td>empowering young women to find and embrace the...</td>\n",
              "      <td>1</td>\n",
              "    </tr>\n",
              "    <tr>\n",
              "      <td>4</td>\n",
              "      <td>4teensandme</td>\n",
              "      <td>when life kicks your butt....kick it back!!! l...</td>\n",
              "      <td>1</td>\n",
              "    </tr>\n",
              "  </tbody>\n",
              "</table>\n",
              "</div>"
            ],
            "text/plain": [
              "        UserId                                               Post  Depressed\n",
              "0  4teensandme  it's time to stop it's time to stop focusing o...          1\n",
              "1  4teensandme  10 things about me:1. i am passionate about ch...          1\n",
              "2  4teensandme  you are your number 1 fan!!!stop depending on ...          1\n",
              "3  4teensandme  empowering young women to find and embrace the...          1\n",
              "4  4teensandme  when life kicks your butt....kick it back!!! l...          1"
            ]
          },
          "metadata": {
            "tags": []
          },
          "execution_count": 8
        }
      ]
    },
    {
      "cell_type": "code",
      "metadata": {
        "id": "VnyrWlDy40PA",
        "colab_type": "code",
        "colab": {},
        "outputId": "73d94815-243a-44bd-edda-c675420aac9d"
      },
      "source": [
        "posts = list(text['Post']) \n",
        "posts[0:2]"
      ],
      "execution_count": null,
      "outputs": [
        {
          "output_type": "execute_result",
          "data": {
            "text/plain": [
              "[\"it's time to stop it's time to stop focusing on other people's opinions of you. the only person that matters the only opinion that matters only way to succeed is to believe in yourself.#yourvalue #knowyourworth #opinions #worthy #positivity #speakup #dontjudge #bethechange #differencemaker #loveyourself #love #realtalk #speaker #instagood #whatido #passionate #motivation #inspiration\",\n",
              " '10 things about me:1. i am passionate about change2. empowering woman is my destiny3. i was a single teenage mom4. i have been married twice5. i am obsessed with my dog and unicorns!6. i have overcome unhealthy relationships7. i change my haircolor based off emotions8. i love to embarrass my kids9. pumpkin spice is life!10. the water (beach) is my sanctuary.bonus:11. god has blessed my life#aboutme #10things #gettoknowme #tellmeaboutyou #insight #buildrelationships #businss #grindtowin #winning #godsplan #calling #blessed #positivetalk #blessed #proud #love #realtalk #loveyourself #speakup #raiseawarness #beavoice #change']"
            ]
          },
          "metadata": {
            "tags": []
          },
          "execution_count": 14
        }
      ]
    },
    {
      "cell_type": "code",
      "metadata": {
        "id": "XDtvDmLM40PD",
        "colab_type": "code",
        "colab": {},
        "outputId": "d31276cc-8c48-4da7-fa23-11f9238c2a3c"
      },
      "source": [
        "#Defining functions to apply for the Instagram DataFrame with posts\n",
        "\n",
        "def find_mentioned(tweet):\n",
        "    #'''This function will extract the twitter handles of people mentioned in the tweet'''\n",
        "    return re.findall('(?<!RT\\s)(@[A-Za-z]+[A-Za-z0-9-_]+)', tweet)\n",
        "\n",
        "def find_hashtags(tweet):\n",
        "    #'''This function will extract hashtags'''\n",
        "    return re.findall('(#[A-Za-z]+[A-Za-z0-9-_]+)', tweet) \n",
        "\n",
        "import emoji\n",
        "def extract_emojis(str):\n",
        "  return ''.join(c for c in str if c in emoji.UNICODE_EMOJI)\n",
        "\n",
        "def count_hashtags(post):\n",
        "    return [Hashtags.count(w) for w in Hashtags]\n",
        "\n",
        "import nltk\n",
        "nltk.download('stopwords')\n",
        "from nltk.corpus import stopwords\n",
        "\n",
        "my_stopwords = nltk.corpus.stopwords.words('english')\n",
        "my_stopwords.extend(['ve','th','re'])\n",
        "def remove_stop_words(tweet):\n",
        "    joined_tweet = []\n",
        "    tweet_token_list = [word.strip() for word in tweet.split(' ')\n",
        "                            if word not in my_stopwords]\n",
        "    #tweet_tokens_joined = tweet_token_list.join(' ')\n",
        "    return tweet_token_list"
      ],
      "execution_count": null,
      "outputs": [
        {
          "output_type": "stream",
          "text": [
            "<>:5: DeprecationWarning: invalid escape sequence \\s\n",
            "<>:5: DeprecationWarning: invalid escape sequence \\s\n",
            "<>:5: DeprecationWarning: invalid escape sequence \\s\n",
            "<ipython-input-10-55903f16ca00>:5: DeprecationWarning: invalid escape sequence \\s\n",
            "  return re.findall('(?<!RT\\s)(@[A-Za-z]+[A-Za-z0-9-_]+)', tweet)\n",
            "[nltk_data] Downloading package stopwords to\n",
            "[nltk_data]     C:\\Users\\vipan\\AppData\\Roaming\\nltk_data...\n",
            "[nltk_data]   Package stopwords is already up-to-date!\n"
          ],
          "name": "stderr"
        }
      ]
    },
    {
      "cell_type": "code",
      "metadata": {
        "id": "GUCgwgLn40PG",
        "colab_type": "code",
        "colab": {}
      },
      "source": [
        "from nltk.sentiment.vader import SentimentIntensityAnalyzer\n",
        "def find_senti_pos(tweet):\n",
        "    #'''This function will extract postive sentiment'''\n",
        "    sid = SentimentIntensityAnalyzer()\n",
        "    #message_text = '''Like you, I am getting very frustrated with this process. I am genuinely trying to be as reasonable as possible. I am not trying to \"hold up\" the deal at the last minute. I'm afraid that I am being asked to take a fairly large leap of faith after this company (I don't mean the two of you -- I mean Enron) has screwed me and the people who work for me.'''\n",
        "    scores = sid.polarity_scores(tweet)\n",
        "    for key in sorted(scores):\n",
        "        return(scores['pos'])\n",
        "\n",
        "def find_senti_neg(tweet):\n",
        "    #'''This function will extract negative sentiment'''\n",
        "    sid = SentimentIntensityAnalyzer()\n",
        "    #message_text = '''Like you, I am getting very frustrated with this process. I am genuinely trying to be as reasonable as possible. I am not trying to \"hold up\" the deal at the last minute. I'm afraid that I am being asked to take a fairly large leap of faith after this company (I don't mean the two of you -- I mean Enron) has screwed me and the people who work for me.'''\n",
        "    scores = sid.polarity_scores(tweet)\n",
        "    for key in sorted(scores):\n",
        "        return(scores['neg'])\n",
        "\n",
        "def find_senti_neu(tweet):\n",
        "    #'''This function will extract neutral sentiment'''\n",
        "    sid = SentimentIntensityAnalyzer()\n",
        "    #message_text = '''Like you, I am getting very frustrated with this process. I am genuinely trying to be as reasonable as possible. I am not trying to \"hold up\" the deal at the last minute. I'm afraid that I am being asked to take a fairly large leap of faith after this company (I don't mean the two of you -- I mean Enron) has screwed me and the people who work for me.'''\n",
        "    scores = sid.polarity_scores(tweet)\n",
        "    for key in sorted(scores):\n",
        "        return(scores['neu'])\n",
        "    \n",
        "def find_senti_overall(tweet):\n",
        "    #'''This function will extract overall sentiment'''\n",
        "    sid = SentimentIntensityAnalyzer()\n",
        "    #message_text = '''Like you, I am getting very frustrated with this process. I am genuinely trying to be as reasonable as possible. I am not trying to \"hold up\" the deal at the last minute. I'm afraid that I am being asked to take a fairly large leap of faith after this company (I don't mean the two of you -- I mean Enron) has screwed me and the people who work for me.'''\n",
        "    scores = sid.polarity_scores(tweet)\n",
        "    for key in sorted(scores):\n",
        "        return(scores['compound'])    \n",
        "\n",
        "def find_senti(tweet):\n",
        "    #'''This function will extract type of sentiment'''\n",
        "    sid = SentimentIntensityAnalyzer()\n",
        "    #message_text = '''Like you, I am getting very frustrated with this process. I am genuinely trying to be as reasonable as possible. I am not trying to \"hold up\" the deal at the last minute. I'm afraid that I am being asked to take a fairly large leap of faith after this company (I don't mean the two of you -- I mean Enron) has screwed me and the people who work for me.'''\n",
        "    scores = sid.polarity_scores(tweet)\n",
        "    for key in sorted(scores):\n",
        "        if scores['compound']  >= 0.05 :\n",
        "          result='positive'\n",
        "        elif scores['compound']  <= -0.05 :\n",
        "          result='negative'\n",
        "        else:\n",
        "          result='neutral'\n",
        "        return(result)  \n",
        "    \n",
        "def find_count_of_neg(tweet):\n",
        "    #'''This function will find the count of negative tweets'''\n",
        "    sid = SentimentIntensityAnalyzer()\n",
        "    scores = sid.polarity_scores(tweet)\n",
        "    for key in sorted(scores):\n",
        "        if scores['compound']  <= -0.05 :\n",
        "          result=1\n",
        "        else:\n",
        "          result=0\n",
        "        return(result)\n",
        "    \n",
        "def find_count_of_posi(tweet):\n",
        "    #'''This function will find the count of positive tweets'''\n",
        "    sid = SentimentIntensityAnalyzer()\n",
        "    scores = sid.polarity_scores(tweet)\n",
        "    for key in sorted(scores):\n",
        "        if scores['compound']  >= 0.05 :\n",
        "          result=1\n",
        "        else:\n",
        "          result=0\n",
        "        return(result)\n",
        "    \n",
        "def find_count_of_neu(tweet):\n",
        "    #'''This function will find the count of neutral tweets'''\n",
        "    sid = SentimentIntensityAnalyzer()\n",
        "    scores = sid.polarity_scores(tweet)\n",
        "    for key in sorted(scores):\n",
        "        if scores['compound']  >= 0.05 :\n",
        "          result=0\n",
        "        elif scores['compound']  <= -0.05 :\n",
        "          result=0\n",
        "        else:\n",
        "          result=1\n",
        "        return(result)"
      ],
      "execution_count": null,
      "outputs": []
    },
    {
      "cell_type": "code",
      "metadata": {
        "id": "rwSqrF5J40PM",
        "colab_type": "code",
        "colab": {}
      },
      "source": [
        "import nltk\n",
        "nltk.download('punkt')\n",
        "nltk.download('vader_lexicon')\n",
        "a = map(len, map(nltk.word_tokenize, posts))\n",
        "\n",
        "text['number_of_words'] = list(a)\n",
        "text['Hashtags'] = text['Post'].apply(find_hashtags)  #Finding Hashtags\n",
        "text['Post_processed'] = text['Post'].map(lambda x: re.sub('[0-9•<#,%():\".!?-]', ' ', x))  #Remove punctuation\n",
        "text['Post_processed'] = text['Post_processed'].map(lambda x: re.sub('@\\w+', ' ', x))  #Remove user mentions\n",
        "text['number_of_hashtags'] = [len(x) for x in text['Hashtags']]  #Count Hashtags\n",
        "text['sentimentpositive'] = text['Post_processed'].apply(find_senti_pos)\n",
        "text['sentimentnegative'] = text['Post_processed'].apply(find_senti_neg)\n",
        "text['sentimentneutral'] = text['Post_processed'].apply(find_senti_neu)\n",
        "text['sentimentcompound'] = text['Post_processed'].apply(find_senti_overall)\n",
        "text['sentimentoverall'] = text['Post_processed'].apply(find_senti)\n",
        "text['polarity'] = text['Post_processed'].map(lambda text: TextBlob(text).sentiment.polarity) \n",
        "text['negativepost'] = text['Post_processed'].apply(find_count_of_neg)\n",
        "text['positivepost'] = text['Post_processed'].apply(find_count_of_posi)\n",
        "text['neutralpost'] = text['Post_processed'].apply(find_count_of_neu)\n",
        "\n",
        "text.head(10)"
      ],
      "execution_count": null,
      "outputs": []
    },
    {
      "cell_type": "code",
      "metadata": {
        "id": "38CLCHFH40PP",
        "colab_type": "code",
        "colab": {}
      },
      "source": [
        "avg_words=text.groupby(['UserId']).mean()\n",
        "avg_words.head()"
      ],
      "execution_count": null,
      "outputs": []
    },
    {
      "cell_type": "code",
      "metadata": {
        "id": "lbgK18xD40PS",
        "colab_type": "code",
        "colab": {}
      },
      "source": [
        "total_words = text.groupby(['UserId']).sum()\n",
        "total_words.head()"
      ],
      "execution_count": null,
      "outputs": []
    },
    {
      "cell_type": "code",
      "metadata": {
        "id": "lnfYjOpD40PU",
        "colab_type": "code",
        "colab": {}
      },
      "source": [
        "count_words = text.groupby(['UserId']).count()\n",
        "count_words.head()"
      ],
      "execution_count": null,
      "outputs": []
    },
    {
      "cell_type": "code",
      "metadata": {
        "scrolled": false,
        "id": "RDFDtwvn40PX",
        "colab_type": "code",
        "colab": {}
      },
      "source": [
        "##########################  Data Cleaning  #########################\n",
        "\n",
        "#Converting Instagram posts to user level of detail from post level of detail for both raw and processed text\n",
        "temp_posts = pd.DataFrame(text.groupby('UserId')['Post'].apply(lambda x: \"%s\" % ' '.join(x)))  \n",
        "a = pd.DataFrame(text.groupby('UserId')['Post_processed'].apply(lambda x: \"%s\" % ' '.join(x)))\n",
        "\n",
        "a['Post'] = temp_posts['Post']\n",
        "\n",
        "#Replacing anything except alphabets with blank (to remove emojis)\n",
        "a['Post_processed'] = a.Post_processed.str.replace('[^a-zA-Z\\']', ' ')\n",
        "\n",
        "#Getting Hashtag details at user level from post\n",
        "a['Hashtags'] = a['Post'].apply(find_hashtags)\n",
        "a['number_of_hashtags'] = [len(x) for x in a['Hashtags']]\n",
        "a['average_hashtags_per_post'] = avg_words['number_of_hashtags']\n",
        "\n",
        "#Getting Emojis from posts\n",
        "a['Emojis'] = a['Post'].apply(extract_emojis)\n",
        "\n",
        "#Removing stop words using NLTK english library\n",
        "a['Post_processed'] = a['Post_processed'].apply(remove_stop_words).apply(lambda x: ' '.join(x))\n",
        "\n",
        "#Appending aggregated values to user level DF\n",
        "a['number_of_words'] = total_words['number_of_words']\n",
        "a['average_words_per_post'] = avg_words['number_of_words']\n",
        "a['Depressed'] = avg_words['Depressed']\n",
        "a['avg_sentimentpositive'] = avg_words['sentimentpositive']\n",
        "a['avg_sentimentnegative'] = avg_words['sentimentnegative']\n",
        "a['avg_sentimentneutral'] = avg_words['sentimentneutral']\n",
        "a['avg_sentimentcompound'] = avg_words['sentimentcompound']\n",
        "a['cnt_neg_posts'] = total_words['negativepost']\n",
        "a['cnt_neu_posts'] = total_words['neutralpost']\n",
        "a['cnt_pos_posts'] = total_words['positivepost']\n",
        "a['avg_polarity'] = avg_words['polarity'] \n",
        "a.head()"
      ],
      "execution_count": null,
      "outputs": []
    },
    {
      "cell_type": "code",
      "metadata": {
        "id": "PyP05jXO40PZ",
        "colab_type": "code",
        "colab": {}
      },
      "source": [
        "Depressed_demographic = pd.read_excel (r'D:\\study stuff\\UIC\\Sem - 2\\IDS 594 Healthcare\\Project\\Final Submission\\Final_Dataset_Instagram_Handles.xlsx', sheet_name='Depressed')\n",
        "Normal_demographic = pd.read_excel (r'D:\\study stuff\\UIC\\Sem - 2\\IDS 594 Healthcare\\Project\\Final Submission\\Final_Dataset_Instagram_Handles.xlsx', sheet_name='Normal')\n",
        "demographics = pd.concat([Depressed_demographic,Normal_demographic])\n",
        "demographics = demographics.drop(['Public_or_Private','FullName','Depressed'], axis = 1)\n",
        "demographics.head()"
      ],
      "execution_count": null,
      "outputs": []
    },
    {
      "cell_type": "code",
      "metadata": {
        "id": "P-8BCVlL40Pb",
        "colab_type": "code",
        "colab": {}
      },
      "source": [
        "a.reset_index(level=0, inplace=True)\n",
        "result = pd.merge(a,\n",
        "                 demographics,\n",
        "                 left_on='UserId',\n",
        "                 right_on='UserID', \n",
        "                 how='left')\n",
        "result = result.drop(['UserID','Post_processed','Post','Hashtags','Emojis'], axis = 1)\n",
        "result.head()"
      ],
      "execution_count": null,
      "outputs": []
    },
    {
      "cell_type": "code",
      "metadata": {
        "id": "b_9Lq3xZ40Pd",
        "colab_type": "code",
        "colab": {}
      },
      "source": [
        "#Saving the initial text dataset and text dataset with demographics data for further reference\n",
        "\n",
        "a.to_csv(r'D:\\study stuff\\UIC\\Sem - 2\\IDS 594 Healthcare\\Project\\Final Submission\\TextModellingDataInput.csv', index = True)\n",
        "result.to_csv(r'D:\\study stuff\\UIC\\Sem - 2\\IDS 594 Healthcare\\Project\\Final Submission\\RDataInput.csv', index = False)"
      ],
      "execution_count": null,
      "outputs": []
    },
    {
      "cell_type": "markdown",
      "metadata": {
        "id": "NPs-fIIw40Pf",
        "colab_type": "text"
      },
      "source": [
        "# Modelling"
      ]
    },
    {
      "cell_type": "code",
      "metadata": {
        "id": "QogQF0kg40Pf",
        "colab_type": "code",
        "colab": {},
        "outputId": "d1160e99-215e-4be7-dbec-3afb7ff97b56"
      },
      "source": [
        "#Extracting word features out of the processed text\n",
        "from sklearn.feature_extraction.text import TfidfVectorizer\n",
        "tfidf = TfidfVectorizer(sublinear_tf=True, min_df=5, norm='l2', encoding='latin-1', ngram_range=(1, 2), stop_words='english')\n",
        "features = tfidf.fit_transform(a.Post_processed).toarray()\n",
        "labels = a.Depressed\n",
        "features.shape"
      ],
      "execution_count": null,
      "outputs": [
        {
          "output_type": "execute_result",
          "data": {
            "text/plain": [
              "(99, 10695)"
            ]
          },
          "metadata": {
            "tags": []
          },
          "execution_count": 27
        }
      ]
    },
    {
      "cell_type": "code",
      "metadata": {
        "id": "Ul74zIGe40Pi",
        "colab_type": "code",
        "colab": {}
      },
      "source": [
        "#Importing required packages and creating data splits for training and testing\n",
        "from sklearn.model_selection import train_test_split\n",
        "from sklearn.feature_extraction.text import CountVectorizer\n",
        "from sklearn.feature_extraction.text import TfidfTransformer\n",
        "from sklearn.naive_bayes import MultinomialNB\n",
        "\n",
        "X_train, X_test, y_train, y_test = train_test_split(a['Post_processed'], a['Depressed'], random_state = 0)\n",
        "count_vect = CountVectorizer()\n",
        "X_train_counts = count_vect.fit_transform(X_train)\n",
        "tfidf_transformer = TfidfTransformer()\n",
        "X_train_tfidf = tfidf_transformer.fit_transform(X_train_counts)\n",
        "clf = MultinomialNB().fit(X_train_tfidf, y_train)"
      ],
      "execution_count": null,
      "outputs": []
    },
    {
      "cell_type": "code",
      "metadata": {
        "id": "lq5DMkPH40Pk",
        "colab_type": "code",
        "colab": {},
        "outputId": "db778f71-6dce-490e-deae-8bf109a43d77"
      },
      "source": [
        "from sklearn.linear_model import LogisticRegression\n",
        "from sklearn.ensemble import RandomForestClassifier\n",
        "from sklearn.svm import LinearSVC\n",
        "from sklearn.model_selection import cross_val_score\n",
        "models = [\n",
        "    RandomForestClassifier(n_estimators=200, max_depth=3, random_state=0),\n",
        "    LinearSVC(),\n",
        "    MultinomialNB(),\n",
        "    LogisticRegression(random_state=0,solver='lbfgs'),\n",
        "]\n",
        "CV = 5\n",
        "cv_df = pd.DataFrame(index=range(CV * len(models)))\n",
        "entries = []\n",
        "\n",
        "for model in models:\n",
        "  model_name = model.__class__.__name__\n",
        "  accuracies = cross_val_score(model, features, labels, scoring='accuracy', cv=CV)\n",
        "  precisions = cross_val_score(model, features, labels, scoring='precision', cv=CV)  \n",
        "  recalls = cross_val_score(model, features, labels, scoring='recall', cv=CV)\n",
        "  appended = []\n",
        "  for i in range(len(accuracies)):\n",
        "    appended.append((accuracies[i],precisions[i],recalls[i]))\n",
        "    \n",
        "  for fold_idx, appended in enumerate(appended):\n",
        "    entries.append((model_name, fold_idx, appended[0],appended[1],appended[2]))\n",
        "cv_df = pd.DataFrame(entries, columns=['model_name', 'fold_idx', 'accuracy','precision','recall'])\n",
        "print(cv_df)\n",
        "import seaborn as sns\n",
        "sns.boxplot(x='model_name', y='accuracy', data=cv_df)\n",
        "sns.stripplot(x='model_name', y='accuracy', data=cv_df, \n",
        "              size=8, jitter=True, edgecolor=\"gray\", linewidth=2)\n",
        "plt.show()"
      ],
      "execution_count": null,
      "outputs": [
        {
          "output_type": "stream",
          "text": [
            "                model_name  fold_idx  accuracy  precision  recall\n",
            "0   RandomForestClassifier         0  0.750000   0.777778     0.7\n",
            "1   RandomForestClassifier         1  0.800000   0.800000     0.8\n",
            "2   RandomForestClassifier         2  0.950000   1.000000     0.9\n",
            "3   RandomForestClassifier         3  0.700000   0.750000     0.6\n",
            "4   RandomForestClassifier         4  0.842105   1.000000     0.7\n",
            "5                LinearSVC         0  0.950000   1.000000     0.9\n",
            "6                LinearSVC         1  1.000000   1.000000     1.0\n",
            "7                LinearSVC         2  1.000000   1.000000     1.0\n",
            "8                LinearSVC         3  0.900000   0.900000     0.9\n",
            "9                LinearSVC         4  0.894737   1.000000     0.8\n",
            "10           MultinomialNB         0  0.950000   0.909091     1.0\n",
            "11           MultinomialNB         1  0.850000   0.769231     1.0\n",
            "12           MultinomialNB         2  1.000000   1.000000     1.0\n",
            "13           MultinomialNB         3  0.850000   0.769231     1.0\n",
            "14           MultinomialNB         4  0.842105   0.888889     0.8\n",
            "15      LogisticRegression         0  0.900000   0.900000     0.9\n",
            "16      LogisticRegression         1  1.000000   1.000000     1.0\n",
            "17      LogisticRegression         2  0.950000   0.909091     1.0\n",
            "18      LogisticRegression         3  0.850000   0.818182     0.9\n",
            "19      LogisticRegression         4  0.894737   1.000000     0.8\n"
          ],
          "name": "stdout"
        },
        {
          "output_type": "display_data",
          "data": {
            "image/png": "[encoded data removed]",
            "text/plain": [
              "<Figure size 432x288 with 1 Axes>"
            ]
          },
          "metadata": {
            "tags": [],
            "needs_background": "light"
          }
        }
      ]
    },
    {
      "cell_type": "code",
      "metadata": {
        "id": "IJ40_Oy-40Pm",
        "colab_type": "code",
        "colab": {},
        "outputId": "5180b8b3-cb1e-4992-a89c-f3324eb4fe57"
      },
      "source": [
        "cv_df.groupby('model_name').mean()"
      ],
      "execution_count": null,
      "outputs": [
        {
          "output_type": "execute_result",
          "data": {
            "text/html": [
              "<div>\n",
              "<style scoped>\n",
              "    .dataframe tbody tr th:only-of-type {\n",
              "        vertical-align: middle;\n",
              "    }\n",
              "\n",
              "    .dataframe tbody tr th {\n",
              "        vertical-align: top;\n",
              "    }\n",
              "\n",
              "    .dataframe thead th {\n",
              "        text-align: right;\n",
              "    }\n",
              "</style>\n",
              "<table border=\"1\" class=\"dataframe\">\n",
              "  <thead>\n",
              "    <tr style=\"text-align: right;\">\n",
              "      <th></th>\n",
              "      <th>fold_idx</th>\n",
              "      <th>accuracy</th>\n",
              "      <th>precision</th>\n",
              "      <th>recall</th>\n",
              "    </tr>\n",
              "    <tr>\n",
              "      <th>model_name</th>\n",
              "      <th></th>\n",
              "      <th></th>\n",
              "      <th></th>\n",
              "      <th></th>\n",
              "    </tr>\n",
              "  </thead>\n",
              "  <tbody>\n",
              "    <tr>\n",
              "      <td>LinearSVC</td>\n",
              "      <td>2</td>\n",
              "      <td>0.948947</td>\n",
              "      <td>0.980000</td>\n",
              "      <td>0.92</td>\n",
              "    </tr>\n",
              "    <tr>\n",
              "      <td>LogisticRegression</td>\n",
              "      <td>2</td>\n",
              "      <td>0.918947</td>\n",
              "      <td>0.925455</td>\n",
              "      <td>0.92</td>\n",
              "    </tr>\n",
              "    <tr>\n",
              "      <td>MultinomialNB</td>\n",
              "      <td>2</td>\n",
              "      <td>0.898421</td>\n",
              "      <td>0.867288</td>\n",
              "      <td>0.96</td>\n",
              "    </tr>\n",
              "    <tr>\n",
              "      <td>RandomForestClassifier</td>\n",
              "      <td>2</td>\n",
              "      <td>0.808421</td>\n",
              "      <td>0.865556</td>\n",
              "      <td>0.74</td>\n",
              "    </tr>\n",
              "  </tbody>\n",
              "</table>\n",
              "</div>"
            ],
            "text/plain": [
              "                        fold_idx  accuracy  precision  recall\n",
              "model_name                                                   \n",
              "LinearSVC                      2  0.948947   0.980000    0.92\n",
              "LogisticRegression             2  0.918947   0.925455    0.92\n",
              "MultinomialNB                  2  0.898421   0.867288    0.96\n",
              "RandomForestClassifier         2  0.808421   0.865556    0.74"
            ]
          },
          "metadata": {
            "tags": []
          },
          "execution_count": 30
        }
      ]
    },
    {
      "cell_type": "markdown",
      "metadata": {
        "id": "sUjSPEI140Po",
        "colab_type": "text"
      },
      "source": [
        "# Choosing Model\n",
        "\n",
        "**From the above values of evaluation metrics (accuracy, precision and recall) it is clear that _Linear SVC_ model suits better for analyzing the instagram posts. We build the model on the training data as the final model."
      ]
    },
    {
      "cell_type": "code",
      "metadata": {
        "id": "PlCFgb4u40Pp",
        "colab_type": "code",
        "colab": {},
        "outputId": "c55e73ef-6450-400c-8cd7-1f8a88ecccfb"
      },
      "source": [
        "#Building model using Linear SVC algorithm\n",
        "model = LinearSVC()\n",
        "X_train, X_test, y_train, y_test, indices_train, indices_test = train_test_split(features, labels, a.index, test_size=0.33, random_state=0)\n",
        "model.fit(X_train, y_train)\n",
        "y_pred = model.predict(X_test)\n",
        "\n",
        "#Printing the cofusion matrix\n",
        "from sklearn.metrics import confusion_matrix\n",
        "conf_mat = confusion_matrix(y_test, y_pred)\n",
        "print(conf_mat)"
      ],
      "execution_count": null,
      "outputs": [
        {
          "output_type": "stream",
          "text": [
            "[[17  3]\n",
            " [ 2 11]]\n"
          ],
          "name": "stdout"
        }
      ]
    },
    {
      "cell_type": "code",
      "metadata": {
        "scrolled": false,
        "id": "sC6T0Nyf40Pr",
        "colab_type": "code",
        "colab": {}
      },
      "source": [
        "#Printing the data points that were misclassified by the model\n",
        "category_id_df = pd.DataFrame({'Name':['Depressed','Non-Depressed'],'Value':[1.0,0.0]})\n",
        "category_to_id = dict(category_id_df.values)\n",
        "id_to_category = dict(category_id_df[['Value', 'Name']].values)\n",
        "\n",
        "from IPython.display import display\n",
        "for predicted in a.Depressed.unique():\n",
        "  for actual in a.Depressed.unique():\n",
        "    if predicted != actual:\n",
        "      print(\"'{}' predicted as '{}' : {} examples.\".format(id_to_category[actual], id_to_category[predicted],conf_mat[int(actual), int(predicted)]))\n",
        "      df =  pd.DataFrame(a.loc[indices_test[(y_test == actual) & (y_pred == predicted)]])\n",
        "      if int(conf_mat[int(actual), int(predicted)]) >= 1 :\n",
        "          display(df[[ 'Depressed','Post']])\n",
        "      print('')"
      ],
      "execution_count": null,
      "outputs": []
    },
    {
      "cell_type": "code",
      "metadata": {
        "id": "FpCy3kt-40Ps",
        "colab_type": "code",
        "colab": {}
      },
      "source": [
        "#Saving the misclassified posts into a file to analyze and understand them better\n",
        "print(df[['Post']])\n",
        "df.to_csv(r'D:\\study stuff\\UIC\\Sem - 2\\IDS 594 Healthcare\\Project\\Final Submission\\Misclassified.csv', index = True)"
      ],
      "execution_count": null,
      "outputs": []
    },
    {
      "cell_type": "code",
      "metadata": {
        "id": "NDkwZEbH40Pu",
        "colab_type": "code",
        "colab": {}
      },
      "source": [
        "#Getting the evaluation metrics for Depressed and Non-Depressed classes for better analysis\n",
        "\n",
        "from sklearn import metrics\n",
        "print(metrics.classification_report(y_test, y_pred,target_names= ['Non-Depressed','Depressed'] ))"
      ],
      "execution_count": null,
      "outputs": []
    },
    {
      "cell_type": "code",
      "metadata": {
        "id": "rzvXzW6a40Px",
        "colab_type": "code",
        "colab": {}
      },
      "source": [
        "#Extracting the DataFrame created to an excel for Exploratory Data Analysis in R\n",
        "\n",
        "a.reset_index(level=0, inplace=True)  #To convert UserID which is index into a column at the same position\n",
        "DataFrame = a[['UserId', 'number_of_hashtags','average_hashtags_per_post','number_of_words', 'average_words_per_post','Depressed']]\n",
        "DataFrame.to_csv(r'D:\\study stuff\\UIC\\Sem - 2\\IDS 594 Healthcare\\Project\\DataFrame.csv', index = False)"
      ],
      "execution_count": null,
      "outputs": []
    },
    {
      "cell_type": "code",
      "metadata": {
        "id": "cPYzfaz040P1",
        "colab_type": "code",
        "colab": {},
        "outputId": "6793f1c5-268f-488c-e57c-d08b3f3ebbad"
      },
      "source": [
        "#Prearing a long string with all the posts of Depressed individuals\n",
        "Depressed = a.loc[ a['Depressed'] == 1.0 ]\n",
        "long_string = ' '.join(Depressed['Post'])\n",
        "import emoji\n",
        "def extract_emojis(str):\n",
        "  return ''.join(c for c in str if c in emoji.UNICODE_EMOJI)\n",
        "emojis = extract_emojis(long_string)\n",
        "emojis[0:30]"
      ],
      "execution_count": null,
      "outputs": [
        {
          "output_type": "execute_result",
          "data": {
            "text/plain": [
              "'😊❤☕☕🦄🦄🐶👇😊❤⏰❤❤👇👇👇👇👇👇👇👇👇👇👇👇❤😣🦄😁😁'"
            ]
          },
          "metadata": {
            "tags": []
          },
          "execution_count": 35
        }
      ]
    },
    {
      "cell_type": "code",
      "metadata": {
        "id": "QzQ07G1n40P4",
        "colab_type": "code",
        "colab": {},
        "outputId": "248e1595-5495-4ef8-8e60-7c6c2d5c330b"
      },
      "source": [
        "#Getting the most used emojis by depressed individuals\n",
        "emojifreq = [emojis.count(w) for w in emojis]\n",
        "emojifrequency = list(set(zip(emojis, emojifreq)))\n",
        "emojifrequency.sort(key=lambda x: x[1],reverse=True)\n",
        "emojidf = pd.DataFrame(emojifrequency, columns=[\"Emoji\", \"Frequency\"])\n",
        "print(emojifrequency[0:5])\n",
        "emojidf.head(10)"
      ],
      "execution_count": null,
      "outputs": [
        {
          "output_type": "stream",
          "text": [
            "[('🏻', 1326), ('❤', 1196), ('💛', 783), ('😂', 677), ('🎼', 455)]\n"
          ],
          "name": "stdout"
        },
        {
          "output_type": "execute_result",
          "data": {
            "text/html": [
              "<div>\n",
              "<style scoped>\n",
              "    .dataframe tbody tr th:only-of-type {\n",
              "        vertical-align: middle;\n",
              "    }\n",
              "\n",
              "    .dataframe tbody tr th {\n",
              "        vertical-align: top;\n",
              "    }\n",
              "\n",
              "    .dataframe thead th {\n",
              "        text-align: right;\n",
              "    }\n",
              "</style>\n",
              "<table border=\"1\" class=\"dataframe\">\n",
              "  <thead>\n",
              "    <tr style=\"text-align: right;\">\n",
              "      <th></th>\n",
              "      <th>Emoji</th>\n",
              "      <th>Frequency</th>\n",
              "    </tr>\n",
              "  </thead>\n",
              "  <tbody>\n",
              "    <tr>\n",
              "      <td>0</td>\n",
              "      <td>🏻</td>\n",
              "      <td>1326</td>\n",
              "    </tr>\n",
              "    <tr>\n",
              "      <td>1</td>\n",
              "      <td>❤</td>\n",
              "      <td>1196</td>\n",
              "    </tr>\n",
              "    <tr>\n",
              "      <td>2</td>\n",
              "      <td>💛</td>\n",
              "      <td>783</td>\n",
              "    </tr>\n",
              "    <tr>\n",
              "      <td>3</td>\n",
              "      <td>😂</td>\n",
              "      <td>677</td>\n",
              "    </tr>\n",
              "    <tr>\n",
              "      <td>4</td>\n",
              "      <td>🎼</td>\n",
              "      <td>455</td>\n",
              "    </tr>\n",
              "    <tr>\n",
              "      <td>5</td>\n",
              "      <td>♀</td>\n",
              "      <td>431</td>\n",
              "    </tr>\n",
              "    <tr>\n",
              "      <td>6</td>\n",
              "      <td>🔥</td>\n",
              "      <td>424</td>\n",
              "    </tr>\n",
              "    <tr>\n",
              "      <td>7</td>\n",
              "      <td>🏼</td>\n",
              "      <td>366</td>\n",
              "    </tr>\n",
              "    <tr>\n",
              "      <td>8</td>\n",
              "      <td>🤣</td>\n",
              "      <td>257</td>\n",
              "    </tr>\n",
              "    <tr>\n",
              "      <td>9</td>\n",
              "      <td>🏽</td>\n",
              "      <td>255</td>\n",
              "    </tr>\n",
              "  </tbody>\n",
              "</table>\n",
              "</div>"
            ],
            "text/plain": [
              "  Emoji  Frequency\n",
              "0     🏻       1326\n",
              "1     ❤       1196\n",
              "2     💛        783\n",
              "3     😂        677\n",
              "4     🎼        455\n",
              "5     ♀        431\n",
              "6     🔥        424\n",
              "7     🏼        366\n",
              "8     🤣        257\n",
              "9     🏽        255"
            ]
          },
          "metadata": {
            "tags": []
          },
          "execution_count": 36
        }
      ]
    },
    {
      "cell_type": "markdown",
      "metadata": {
        "id": "fR1SsvGt40P6",
        "colab_type": "text"
      },
      "source": [
        "# Topic Modelling"
      ]
    },
    {
      "cell_type": "code",
      "metadata": {
        "scrolled": false,
        "id": "YJUCadhN40P6",
        "colab_type": "code",
        "colab": {},
        "outputId": "1cbc9167-0777-4294-b00e-67989ebe998a"
      },
      "source": [
        "# Load the library with the CountVectorizer method to get the most frequest words\n",
        "from sklearn.feature_extraction.text import CountVectorizer\n",
        "import numpy as np\n",
        "import matplotlib.pyplot as plt\n",
        "import seaborn as sns\n",
        "sns.set_style('whitegrid')\n",
        "%matplotlib inline\n",
        "# Helper function\n",
        "def plot_10_most_common_words(count_data, count_vectorizer):\n",
        "    import matplotlib.pyplot as plt\n",
        "    words = count_vectorizer.get_feature_names()\n",
        "    total_counts = np.zeros(len(words))\n",
        "    for t in count_data:\n",
        "        total_counts+=t.toarray()[0]\n",
        "    \n",
        "    count_dict = (zip(words, total_counts))\n",
        "    count_dict = sorted(count_dict, key=lambda x:x[1], reverse=True)[0:10]\n",
        "    words = [w[0] for w in count_dict]\n",
        "    counts = [w[1] for w in count_dict]\n",
        "    x_pos = np.arange(len(words)) \n",
        "    \n",
        "    plt.figure(2, figsize=(15, 15/1.6180))\n",
        "    plt.subplot(title='10 most common words')\n",
        "    sns.set_context(\"notebook\", font_scale=1.25, rc={\"lines.linewidth\": 2.5})\n",
        "    sns.barplot(x_pos, counts, palette='husl')\n",
        "    plt.xticks(x_pos, words, rotation=90) \n",
        "    plt.xlabel('words')\n",
        "    plt.ylabel('counts')\n",
        "    plt.show()\n",
        "# Initialise the count vectorizer with the English stop words\n",
        "count_vectorizer = CountVectorizer(stop_words='english')\n",
        "# Fit and transform the processed titles\n",
        "count_data = count_vectorizer.fit_transform(Depressed['Post_processed']) #Using only the posts of \"Depressed\" individuals\n",
        "# Visualise the 10 most common words\n",
        "plot_10_most_common_words(count_data, count_vectorizer)"
      ],
      "execution_count": null,
      "outputs": [
        {
          "output_type": "display_data",
          "data": {
            "image/png": "[encoded data removed]",
            "text/plain": [
              "<Figure size 1080x667.491 with 1 Axes>"
            ]
          },
          "metadata": {
            "tags": [],
            "needs_background": "light"
          }
        }
      ]
    },
    {
      "cell_type": "markdown",
      "metadata": {
        "id": "gV_DADH-40P8",
        "colab_type": "text"
      },
      "source": [
        "# Latent Dirichlet Allocation (Unsupervised LDA)"
      ]
    },
    {
      "cell_type": "code",
      "metadata": {
        "id": "vqIAdcw640P9",
        "colab_type": "code",
        "colab": {},
        "outputId": "58114046-8a21-4d14-c188-c9a16bede230"
      },
      "source": [
        "#Performing LDA using sklearn\n",
        "import warnings\n",
        "warnings.simplefilter(\"ignore\", DeprecationWarning)\n",
        "# Load the LDA model from sk-learn\n",
        "from sklearn.decomposition import LatentDirichletAllocation as LDA\n",
        " \n",
        "# Helper function\n",
        "def print_topics(model, count_vectorizer, n_top_words):\n",
        "    words = count_vectorizer.get_feature_names()\n",
        "    for topic_idx, topic in enumerate(model.components_):\n",
        "        print(\"\\nTopic #%d:\" % topic_idx)\n",
        "        print(\" \".join([words[i]\n",
        "                        for i in topic.argsort()[:-n_top_words - 1:-1]]))\n",
        "        \n",
        "# Tweak the two parameters below\n",
        "number_topics = 4\n",
        "number_words = 30\n",
        "# Create and fit the LDA model\n",
        "lda = LDA(n_components=number_topics, n_jobs=-1)\n",
        "lda.fit(count_data)\n",
        "# Print the topics found by the LDA model\n",
        "print(\"Topics found via LDA:\")\n",
        "print_topics(lda, count_vectorizer, number_words)"
      ],
      "execution_count": null,
      "outputs": [
        {
          "output_type": "stream",
          "text": [
            "Topics found via LDA:\n",
            "\n",
            "Topic #0:\n",
            "utc jpg txt adhd ptsd adhdlife love mentalhealth teensandme life like day adhdwomen anxiety adhdproblems time today adhdmom know ptsdsurvivor people mentalhealthawareness portraits agoraphobia personalgrowth feel selfawareness want selfhelp ptsdrecovery\n",
            "\n",
            "Topic #1:\n",
            "ptsd crossfit ptsdrecovery day blessed barbelltherapy music love mentalhealth time ndairborneveteran christianrap fitness snatch oly paytheman chh christianathlete esv mental myjourney army work scriptureoftheday today anxiety good norwich ptsavesvets forhisglory\n",
            "\n",
            "Topic #2:\n",
            "ptsd day like time life love today know good new people help ptsdawareness make way feel work family little things got thewanderlustfulwidow think years home days need want going look\n",
            "\n",
            "Topic #3:\n",
            "raccoonandsquirrel homeschoolmom love time today punkymoms day like life new little selfie crochet monstrouslygood got trauma makersgonnamake emdr cptsd ve years communityovercompetition work adhd greekgirl suicideprevention pittsburgh yarn ptsdrecovery good\n"
          ],
          "name": "stdout"
        }
      ]
    },
    {
      "cell_type": "code",
      "metadata": {
        "id": "58dIL1Y140QA",
        "colab_type": "code",
        "colab": {}
      },
      "source": [
        "#Creating the .html file for LDA to visualize the topics on first and second principal components (PC1 and PC2)\n",
        "\n",
        "LDAvis_data_filepath = os.path.join('./LDA_'+str(number_topics))\n",
        "# # this is a bit time consuming - make the if statement True\n",
        "# # if you want to execute visualization prep yourself\n",
        "\n",
        "LDAvis_prepared = sklearn_lda.prepare(lda, count_data, count_vectorizer)\n",
        "with open(LDAvis_data_filepath, 'wb') as f:\n",
        "        pickle.dump(LDAvis_prepared, f)\n",
        "        \n",
        "# load the pre-prepared pyLDAvis data from disk\n",
        "with open(LDAvis_data_filepath,'rb') as f:\n",
        "    LDAvis_prepared = pickle.load(f)\n",
        "pyLDAvis.save_html(LDAvis_prepared, './LDA_'+ str(number_topics) +'.html')"
      ],
      "execution_count": null,
      "outputs": []
    },
    {
      "cell_type": "markdown",
      "metadata": {
        "id": "NKCvl4vn40QC",
        "colab_type": "text"
      },
      "source": [
        "# Correlation Explanation (CorEx algorithm WITHOUT anchor words)"
      ]
    },
    {
      "cell_type": "code",
      "metadata": {
        "id": "B9EajI0x40QD",
        "colab_type": "code",
        "colab": {},
        "outputId": "bb00aafd-afbf-4671-b59f-88b2bd3b82a2"
      },
      "source": [
        "#Correlation Explanation (CorEx) WITHOUT anchor words\n",
        "from sklearn.feature_extraction.text import TfidfVectorizer\n",
        "vectorizer = TfidfVectorizer(\n",
        "    max_df=.5,\n",
        "    min_df=10,\n",
        "    max_features=None,\n",
        "    ngram_range=(1, 2),\n",
        "    norm=None,\n",
        "    binary=True,\n",
        "    use_idf=False,\n",
        "    sublinear_tf=False\n",
        ")\n",
        "vectorizer = vectorizer.fit(Depressed['Post_processed'])\n",
        "tfidf = vectorizer.transform(Depressed['Post_processed'])\n",
        "#vectorizer = vectorizer.fit(text['Post_processed'])\n",
        "#tfidf = vectorizer.transform(text['Post_processed'])\n",
        "pd.DataFrame(tfidf)\n",
        "\n",
        "vocab = vectorizer.get_feature_names()\n",
        "print(len(vocab))\n",
        "\n",
        "anchors = []\n",
        "model = ct.Corex(n_hidden=5, seed=42)\n",
        "model = model.fit(tfidf, words=vocab)\n",
        "\n",
        "for i, topic_ngrams in enumerate(model.get_topics(n_words=30)):\n",
        "    topic_ngrams = [ngram[0] for ngram in topic_ngrams if ngram[1] > 0]\n",
        "    print(\"Topic #{}: {}\".format(i+1, \", \".join(topic_ngrams)))"
      ],
      "execution_count": null,
      "outputs": [
        {
          "output_type": "stream",
          "text": [
            "2419\n",
            "Topic #1: keeping, build, ways, struggles, sign, kick, including, woman, talked, throw, proper, began, doctor, ended, importantly, increase, filled, make sure, public, felt like, instead, changing, usually, grew, form, entire, imagine, went back, potential, discuss\n",
            "Topic #2: shared, several, none, final, intentions, sending, july, perfectly, mid, law, arrived, originally, events, afternoon, actual, particularly, convinced, efforts, runs, add, member, despite, content, tiny, international, setting, image, return, evening, feet\n",
            "Topic #3: offer, system, one thing, hide, page, broken, twice, planning, understanding, problems, throwing, shopping, results, level, team, woke, eye, tried, complete, hardest, go away, time work, jumping, hung, time time, race, kicked, come back, sight, zone\n",
            "Topic #4: dress, dreams, whatever, go back, lately, posted, gifts, comfortable, crap, butt, core, donated, get rid, choose, co, kid, plus, grown, wrapped, relax, pushing, filter, time go, ring, progress, looks like, seriously, ball, ran, focused\n",
            "Topic #5: shoot, near, access, laughing, approach, february, organic, odd, existed, men, fear, products, motivation, join, happens, com, season, wait see, selling, creepy, album, hashtag, turkey, updates, stage, gift, would like, loose, dropped, price\n"
          ],
          "name": "stdout"
        }
      ]
    },
    {
      "cell_type": "markdown",
      "metadata": {
        "id": "ThWgGyyl40QG",
        "colab_type": "text"
      },
      "source": [
        "# Correlation Explanation(CorEx algorithm WITH anchor words- Supervised)"
      ]
    },
    {
      "cell_type": "code",
      "metadata": {
        "id": "YmKiwzwi40QG",
        "colab_type": "code",
        "colab": {},
        "outputId": "66591e22-67c8-4950-ac9e-fc0927291637"
      },
      "source": [
        "# Anchors designed to nudge the model towards measuring specific genres\n",
        "anchors = [\n",
        "     #Causes\n",
        "    [\"accident\", \"assault\",\"abuse\",\"trauma\",\"war\",\"loss\",\"torture\",\"lost\"],\n",
        "     #Symptoms\n",
        "    [\"anxiety\",\"ptsd\",\"depression\",\"insomnia\",\"sleep\",\"irritability\",\"irritated\",\"mental\",\"illness\"], \n",
        "     #Coping Mechanisms\n",
        "    [\"positive\",\"meditation\",\"love\",\"loved ones\",\"family\",\"kids\",\"suport\",\"art\",\"emotions\"], \n",
        "     #Treatment options\n",
        "    [\"therapy\",\"paroxetine\",\"sertraline\",\"amitriptyline\",\"phenelzine\",\"antidepressant\",\"mediciene\",\"depressant\"],\n",
        "     #Physical\n",
        "    [\"pain\",\"sweat\",\"sick\",\"tremble\",\"harm\",\"drugs\",\"alcohol\",\"dizzy\",\"ache\"]\n",
        "]\n",
        "anchors = [\n",
        "    [a for a in topic if a in vocab]\n",
        "    for topic in anchors\n",
        "]\n",
        "\n",
        "model = ct.Corex(n_hidden=5, seed=42)\n",
        "model = model.fit(\n",
        "    tfidf,\n",
        "    words=vocab,\n",
        "    anchors=anchors, # Pass the anchors in here\n",
        "    anchor_strength=3 # Tell the model how much it should rely on the anchors\n",
        ")\n",
        "\n",
        "for i, topic_ngrams in enumerate(model.get_topics(n_words=30)):\n",
        "    topic_ngrams = [ngram[0] for ngram in topic_ngrams if ngram[1] > 0]\n",
        "    print(\"Topic #{}: {}\".format(i+1, \", \".join(topic_ngrams)))"
      ],
      "execution_count": null,
      "outputs": [
        {
          "output_type": "stream",
          "text": [
            "Topic #1: abuse, accident, loss, woman, doctor, ended, talked, public, make sure, trauma, even though, relationship, biggest, multiple, discuss, attitude, professional, searching, specifically, come together, years later, question, lack, routine, killing, years old, understanding, covered, intense, extra\n",
            "Topic #2: illness, moved, none, level, invited, twice, planning, tried, eye, mentally, come back, potential, hide, sit, shopping, plans, broken, idea, page, followers, noticed, let know, planned, online, worked, breaking, image, quality, quote, nearly\n",
            "Topic #3: keeping, meditation, ways, emotions, build, went back, including, struggles, instead, usually, february, kick, fit, approach, per, importantly, increase, slowly, proper, began, continued, chose, walked, balance, motivation, clear, prior, leg, frozen, attached\n",
            "Topic #4: control, memory, overwhelmed, form, fresh, function, therapy, healing, challenging, task, feeling like, happening, marriage, loved one, previously, fear, round, quotes, effort, mornings, consider, need get, roof, impact, nights, fatigue, cheeks, love good, bubble, language\n",
            "Topic #5: sign, sweat, filled, grow, grew, throughout, drugs, version, throw, challenges, growth, alcohol, finding, felt like, order, changing, harm, greatest, entire, bear, everywhere, actions, worn, tool, acts, cool, drinking, allowed, cup, worry\n"
          ],
          "name": "stdout"
        }
      ]
    }
  ]
}
